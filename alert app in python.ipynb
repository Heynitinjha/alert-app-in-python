{
 "cells": [
  {
   "cell_type": "code",
   "execution_count": 9,
   "id": "20bb3384",
   "metadata": {},
   "outputs": [
    {
     "name": "stdout",
     "output_type": "stream",
     "text": [
      "Requirement already satisfied: plyer in c:\\users\\nitin\\appdata\\local\\anaconda3\\lib\\site-packages (2.1.0)\n",
      "Note: you may need to restart the kernel to use updated packages.\n"
     ]
    }
   ],
   "source": [
    "pip install plyer"
   ]
  },
  {
   "cell_type": "code",
   "execution_count": 14,
   "id": "599f603b",
   "metadata": {},
   "outputs": [],
   "source": [
    "import time\n",
    "from plyer import notification\n",
    "\n",
    "\n",
    "notification.notify(\n",
    "        title = \"Alert\",\n",
    "        message = \" Take a break\",\n",
    "            app_name =\" your python app\",\n",
    "            timeout = 10\n",
    "        )\n",
    "    "
   ]
  },
  {
   "cell_type": "code",
   "execution_count": 1,
   "id": "e5b0e747",
   "metadata": {},
   "outputs": [
    {
     "name": "stdout",
     "output_type": "stream",
     "text": [
      "Note: you may need to restart the kernel to use updated packages.\n"
     ]
    },
    {
     "name": "stderr",
     "output_type": "stream",
     "text": [
      "ERROR: Could not find a version that satisfies the requirement calendar (from versions: none)\n",
      "ERROR: No matching distribution found for calendar\n"
     ]
    }
   ],
   "source": []
  },
  {
   "cell_type": "code",
   "execution_count": 8,
   "id": "c70b5a7d",
   "metadata": {},
   "outputs": [
    {
     "name": "stdout",
     "output_type": "stream",
     "text": [
      "Enter Year:2024\n",
      "                                    2024\n",
      "\n",
      "      January                     February                     March\n",
      "Mo Tu We Th Fr Sa Su        Mo Tu We Th Fr Sa Su        Mo Tu We Th Fr Sa Su\n",
      " 1  2  3  4  5  6  7                  1  2  3  4                     1  2  3\n",
      " 8  9 10 11 12 13 14         5  6  7  8  9 10 11         4  5  6  7  8  9 10\n",
      "15 16 17 18 19 20 21        12 13 14 15 16 17 18        11 12 13 14 15 16 17\n",
      "22 23 24 25 26 27 28        19 20 21 22 23 24 25        18 19 20 21 22 23 24\n",
      "29 30 31                    26 27 28 29                 25 26 27 28 29 30 31\n",
      "\n",
      "       April                        May                         June\n",
      "Mo Tu We Th Fr Sa Su        Mo Tu We Th Fr Sa Su        Mo Tu We Th Fr Sa Su\n",
      " 1  2  3  4  5  6  7               1  2  3  4  5                        1  2\n",
      " 8  9 10 11 12 13 14         6  7  8  9 10 11 12         3  4  5  6  7  8  9\n",
      "15 16 17 18 19 20 21        13 14 15 16 17 18 19        10 11 12 13 14 15 16\n",
      "22 23 24 25 26 27 28        20 21 22 23 24 25 26        17 18 19 20 21 22 23\n",
      "29 30                       27 28 29 30 31              24 25 26 27 28 29 30\n",
      "\n",
      "        July                       August                    September\n",
      "Mo Tu We Th Fr Sa Su        Mo Tu We Th Fr Sa Su        Mo Tu We Th Fr Sa Su\n",
      " 1  2  3  4  5  6  7                  1  2  3  4                           1\n",
      " 8  9 10 11 12 13 14         5  6  7  8  9 10 11         2  3  4  5  6  7  8\n",
      "15 16 17 18 19 20 21        12 13 14 15 16 17 18         9 10 11 12 13 14 15\n",
      "22 23 24 25 26 27 28        19 20 21 22 23 24 25        16 17 18 19 20 21 22\n",
      "29 30 31                    26 27 28 29 30 31           23 24 25 26 27 28 29\n",
      "                                                        30\n",
      "\n",
      "      October                     November                    December\n",
      "Mo Tu We Th Fr Sa Su        Mo Tu We Th Fr Sa Su        Mo Tu We Th Fr Sa Su\n",
      "    1  2  3  4  5  6                     1  2  3                           1\n",
      " 7  8  9 10 11 12 13         4  5  6  7  8  9 10         2  3  4  5  6  7  8\n",
      "14 15 16 17 18 19 20        11 12 13 14 15 16 17         9 10 11 12 13 14 15\n",
      "21 22 23 24 25 26 27        18 19 20 21 22 23 24        16 17 18 19 20 21 22\n",
      "28 29 30 31                 25 26 27 28 29 30           23 24 25 26 27 28 29\n",
      "                                                        30 31\n",
      "\n"
     ]
    }
   ],
   "source": []
  },
  {
   "cell_type": "code",
   "execution_count": null,
   "id": "6ede1082",
   "metadata": {},
   "outputs": [],
   "source": []
  }
 ],
 "metadata": {
  "kernelspec": {
   "display_name": "Python 3 (ipykernel)",
   "language": "python",
   "name": "python3"
  },
  "language_info": {
   "codemirror_mode": {
    "name": "ipython",
    "version": 3
   },
   "file_extension": ".py",
   "mimetype": "text/x-python",
   "name": "python",
   "nbconvert_exporter": "python",
   "pygments_lexer": "ipython3",
   "version": "3.10.9"
  }
 },
 "nbformat": 4,
 "nbformat_minor": 5
}
